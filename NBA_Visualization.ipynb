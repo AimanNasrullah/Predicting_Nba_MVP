{
 "cells": [
  {
   "cell_type": "code",
   "execution_count": 1,
   "id": "2adfa630",
   "metadata": {},
   "outputs": [
    {
     "name": "stdout",
     "output_type": "stream",
     "text": [
      "Requirement already satisfied: pandas in c:\\users\\emann\\anaconda3\\lib\\site-packages (1.3.4)\n",
      "Requirement already satisfied: python-dateutil>=2.7.3 in c:\\users\\emann\\anaconda3\\lib\\site-packages (from pandas) (2.8.2)\n",
      "Requirement already satisfied: numpy>=1.17.3 in c:\\users\\emann\\anaconda3\\lib\\site-packages (from pandas) (1.20.3)\n",
      "Requirement already satisfied: pytz>=2017.3 in c:\\users\\emann\\anaconda3\\lib\\site-packages (from pandas) (2021.3)\n",
      "Requirement already satisfied: six>=1.5 in c:\\users\\emann\\anaconda3\\lib\\site-packages (from python-dateutil>=2.7.3->pandas) (1.16.0)\n"
     ]
    }
   ],
   "source": [
    "!pip install pandas"
   ]
  },
  {
   "cell_type": "code",
   "execution_count": 2,
   "id": "25e608a3",
   "metadata": {},
   "outputs": [],
   "source": [
    "import pandas as pd"
   ]
  },
  {
   "cell_type": "code",
   "execution_count": 3,
   "id": "5e92a1da",
   "metadata": {},
   "outputs": [],
   "source": [
    "stats = pd.read_csv(\"player_mvp_stats.csv\")"
   ]
  },
  {
   "cell_type": "code",
   "execution_count": 4,
   "id": "9c872942",
   "metadata": {},
   "outputs": [],
   "source": [
    "highest_scoring = stats[stats[\"G\"]>70].sort_values(\"PTS\", ascending=False).head(10) #G = Games, in descending order"
   ]
  },
  {
   "cell_type": "code",
   "execution_count": 5,
   "id": "df6a962e",
   "metadata": {},
   "outputs": [
    {
     "data": {
      "text/html": [
       "<div>\n",
       "<style scoped>\n",
       "    .dataframe tbody tr th:only-of-type {\n",
       "        vertical-align: middle;\n",
       "    }\n",
       "\n",
       "    .dataframe tbody tr th {\n",
       "        vertical-align: top;\n",
       "    }\n",
       "\n",
       "    .dataframe thead th {\n",
       "        text-align: right;\n",
       "    }\n",
       "</style>\n",
       "<table border=\"1\" class=\"dataframe\">\n",
       "  <thead>\n",
       "    <tr style=\"text-align: right;\">\n",
       "      <th></th>\n",
       "      <th>Unnamed: 0</th>\n",
       "      <th>Player</th>\n",
       "      <th>Pos</th>\n",
       "      <th>Age</th>\n",
       "      <th>Tm</th>\n",
       "      <th>G</th>\n",
       "      <th>GS</th>\n",
       "      <th>MP</th>\n",
       "      <th>FG</th>\n",
       "      <th>FGA</th>\n",
       "      <th>...</th>\n",
       "      <th>Pts Max</th>\n",
       "      <th>Share</th>\n",
       "      <th>Team</th>\n",
       "      <th>W</th>\n",
       "      <th>L</th>\n",
       "      <th>W/L%</th>\n",
       "      <th>GB</th>\n",
       "      <th>PS/G</th>\n",
       "      <th>PA/G</th>\n",
       "      <th>SRS</th>\n",
       "    </tr>\n",
       "  </thead>\n",
       "  <tbody>\n",
       "    <tr>\n",
       "      <th>10432</th>\n",
       "      <td>10432</td>\n",
       "      <td>James Harden</td>\n",
       "      <td>PG</td>\n",
       "      <td>29</td>\n",
       "      <td>HOU</td>\n",
       "      <td>78</td>\n",
       "      <td>78</td>\n",
       "      <td>36.8</td>\n",
       "      <td>10.8</td>\n",
       "      <td>24.5</td>\n",
       "      <td>...</td>\n",
       "      <td>1010.0</td>\n",
       "      <td>0.768</td>\n",
       "      <td>Houston Rockets</td>\n",
       "      <td>53</td>\n",
       "      <td>29</td>\n",
       "      <td>0.646</td>\n",
       "      <td>0.0</td>\n",
       "      <td>113.9</td>\n",
       "      <td>109.1</td>\n",
       "      <td>4.96</td>\n",
       "    </tr>\n",
       "    <tr>\n",
       "      <th>1186</th>\n",
       "      <td>1186</td>\n",
       "      <td>Kobe Bryant</td>\n",
       "      <td>SG</td>\n",
       "      <td>27</td>\n",
       "      <td>LAL</td>\n",
       "      <td>80</td>\n",
       "      <td>80</td>\n",
       "      <td>41.0</td>\n",
       "      <td>12.2</td>\n",
       "      <td>27.2</td>\n",
       "      <td>...</td>\n",
       "      <td>1250.0</td>\n",
       "      <td>0.386</td>\n",
       "      <td>Los Angeles Lakers</td>\n",
       "      <td>45</td>\n",
       "      <td>37</td>\n",
       "      <td>0.549</td>\n",
       "      <td>9.0</td>\n",
       "      <td>99.4</td>\n",
       "      <td>96.9</td>\n",
       "      <td>2.53</td>\n",
       "    </tr>\n",
       "    <tr>\n",
       "      <th>4874</th>\n",
       "      <td>4874</td>\n",
       "      <td>Allen Iverson</td>\n",
       "      <td>PG</td>\n",
       "      <td>30</td>\n",
       "      <td>PHI</td>\n",
       "      <td>72</td>\n",
       "      <td>72</td>\n",
       "      <td>43.1</td>\n",
       "      <td>11.3</td>\n",
       "      <td>25.3</td>\n",
       "      <td>...</td>\n",
       "      <td>1250.0</td>\n",
       "      <td>0.001</td>\n",
       "      <td>Philadelphia 76ers</td>\n",
       "      <td>38</td>\n",
       "      <td>44</td>\n",
       "      <td>0.463</td>\n",
       "      <td>11.0</td>\n",
       "      <td>99.4</td>\n",
       "      <td>101.3</td>\n",
       "      <td>-2.10</td>\n",
       "    </tr>\n",
       "    <tr>\n",
       "      <th>10751</th>\n",
       "      <td>10751</td>\n",
       "      <td>Michael Jordan</td>\n",
       "      <td>SG</td>\n",
       "      <td>29</td>\n",
       "      <td>CHI</td>\n",
       "      <td>78</td>\n",
       "      <td>78</td>\n",
       "      <td>39.3</td>\n",
       "      <td>12.7</td>\n",
       "      <td>25.7</td>\n",
       "      <td>...</td>\n",
       "      <td>980.0</td>\n",
       "      <td>0.577</td>\n",
       "      <td>Chicago Bulls</td>\n",
       "      <td>57</td>\n",
       "      <td>25</td>\n",
       "      <td>0.695</td>\n",
       "      <td>0.0</td>\n",
       "      <td>105.2</td>\n",
       "      <td>98.9</td>\n",
       "      <td>6.19</td>\n",
       "    </tr>\n",
       "    <tr>\n",
       "      <th>7455</th>\n",
       "      <td>7455</td>\n",
       "      <td>Tracy McGrady</td>\n",
       "      <td>SG</td>\n",
       "      <td>23</td>\n",
       "      <td>ORL</td>\n",
       "      <td>75</td>\n",
       "      <td>74</td>\n",
       "      <td>39.4</td>\n",
       "      <td>11.1</td>\n",
       "      <td>24.2</td>\n",
       "      <td>...</td>\n",
       "      <td>1190.0</td>\n",
       "      <td>0.359</td>\n",
       "      <td>Orlando Magic</td>\n",
       "      <td>42</td>\n",
       "      <td>40</td>\n",
       "      <td>0.512</td>\n",
       "      <td>7.0</td>\n",
       "      <td>98.5</td>\n",
       "      <td>98.4</td>\n",
       "      <td>-0.39</td>\n",
       "    </tr>\n",
       "    <tr>\n",
       "      <th>6884</th>\n",
       "      <td>6884</td>\n",
       "      <td>Kevin Durant</td>\n",
       "      <td>SF</td>\n",
       "      <td>25</td>\n",
       "      <td>OKC</td>\n",
       "      <td>81</td>\n",
       "      <td>81</td>\n",
       "      <td>38.5</td>\n",
       "      <td>10.5</td>\n",
       "      <td>20.8</td>\n",
       "      <td>...</td>\n",
       "      <td>1250.0</td>\n",
       "      <td>0.986</td>\n",
       "      <td>Oklahoma City Thunder</td>\n",
       "      <td>59</td>\n",
       "      <td>23</td>\n",
       "      <td>0.720</td>\n",
       "      <td>0.0</td>\n",
       "      <td>106.2</td>\n",
       "      <td>99.8</td>\n",
       "      <td>6.66</td>\n",
       "    </tr>\n",
       "    <tr>\n",
       "      <th>1200</th>\n",
       "      <td>1200</td>\n",
       "      <td>Kobe Bryant</td>\n",
       "      <td>SG</td>\n",
       "      <td>28</td>\n",
       "      <td>LAL</td>\n",
       "      <td>77</td>\n",
       "      <td>77</td>\n",
       "      <td>40.8</td>\n",
       "      <td>10.6</td>\n",
       "      <td>22.8</td>\n",
       "      <td>...</td>\n",
       "      <td>1290.0</td>\n",
       "      <td>0.404</td>\n",
       "      <td>Los Angeles Lakers</td>\n",
       "      <td>42</td>\n",
       "      <td>40</td>\n",
       "      <td>0.512</td>\n",
       "      <td>19.0</td>\n",
       "      <td>103.3</td>\n",
       "      <td>103.4</td>\n",
       "      <td>0.24</td>\n",
       "    </tr>\n",
       "    <tr>\n",
       "      <th>6936</th>\n",
       "      <td>6936</td>\n",
       "      <td>Russell Westbrook</td>\n",
       "      <td>PG</td>\n",
       "      <td>28</td>\n",
       "      <td>OKC</td>\n",
       "      <td>81</td>\n",
       "      <td>81</td>\n",
       "      <td>34.6</td>\n",
       "      <td>10.2</td>\n",
       "      <td>24.0</td>\n",
       "      <td>...</td>\n",
       "      <td>1010.0</td>\n",
       "      <td>0.879</td>\n",
       "      <td>Oklahoma City Thunder</td>\n",
       "      <td>47</td>\n",
       "      <td>35</td>\n",
       "      <td>0.573</td>\n",
       "      <td>4.0</td>\n",
       "      <td>106.6</td>\n",
       "      <td>105.8</td>\n",
       "      <td>1.14</td>\n",
       "    </tr>\n",
       "    <tr>\n",
       "      <th>10725</th>\n",
       "      <td>10725</td>\n",
       "      <td>Michael Jordan</td>\n",
       "      <td>SG</td>\n",
       "      <td>27</td>\n",
       "      <td>CHI</td>\n",
       "      <td>82</td>\n",
       "      <td>82</td>\n",
       "      <td>37.0</td>\n",
       "      <td>12.1</td>\n",
       "      <td>22.4</td>\n",
       "      <td>...</td>\n",
       "      <td>960.0</td>\n",
       "      <td>0.928</td>\n",
       "      <td>Chicago Bulls</td>\n",
       "      <td>61</td>\n",
       "      <td>21</td>\n",
       "      <td>0.744</td>\n",
       "      <td>0.0</td>\n",
       "      <td>110.0</td>\n",
       "      <td>101.0</td>\n",
       "      <td>8.57</td>\n",
       "    </tr>\n",
       "    <tr>\n",
       "      <th>3576</th>\n",
       "      <td>3576</td>\n",
       "      <td>LeBron James</td>\n",
       "      <td>SF</td>\n",
       "      <td>21</td>\n",
       "      <td>CLE</td>\n",
       "      <td>79</td>\n",
       "      <td>79</td>\n",
       "      <td>42.5</td>\n",
       "      <td>11.1</td>\n",
       "      <td>23.1</td>\n",
       "      <td>...</td>\n",
       "      <td>1250.0</td>\n",
       "      <td>0.550</td>\n",
       "      <td>Cleveland Cavaliers</td>\n",
       "      <td>50</td>\n",
       "      <td>32</td>\n",
       "      <td>0.610</td>\n",
       "      <td>14.0</td>\n",
       "      <td>97.6</td>\n",
       "      <td>95.4</td>\n",
       "      <td>2.17</td>\n",
       "    </tr>\n",
       "  </tbody>\n",
       "</table>\n",
       "<p>10 rows × 42 columns</p>\n",
       "</div>"
      ],
      "text/plain": [
       "       Unnamed: 0             Player Pos  Age   Tm   G  GS    MP    FG   FGA  \\\n",
       "10432       10432       James Harden  PG   29  HOU  78  78  36.8  10.8  24.5   \n",
       "1186         1186        Kobe Bryant  SG   27  LAL  80  80  41.0  12.2  27.2   \n",
       "4874         4874      Allen Iverson  PG   30  PHI  72  72  43.1  11.3  25.3   \n",
       "10751       10751     Michael Jordan  SG   29  CHI  78  78  39.3  12.7  25.7   \n",
       "7455         7455      Tracy McGrady  SG   23  ORL  75  74  39.4  11.1  24.2   \n",
       "6884         6884       Kevin Durant  SF   25  OKC  81  81  38.5  10.5  20.8   \n",
       "1200         1200        Kobe Bryant  SG   28  LAL  77  77  40.8  10.6  22.8   \n",
       "6936         6936  Russell Westbrook  PG   28  OKC  81  81  34.6  10.2  24.0   \n",
       "10725       10725     Michael Jordan  SG   27  CHI  82  82  37.0  12.1  22.4   \n",
       "3576         3576       LeBron James  SF   21  CLE  79  79  42.5  11.1  23.1   \n",
       "\n",
       "       ...  Pts Max  Share                   Team   W   L   W/L%    GB   PS/G  \\\n",
       "10432  ...   1010.0  0.768        Houston Rockets  53  29  0.646   0.0  113.9   \n",
       "1186   ...   1250.0  0.386     Los Angeles Lakers  45  37  0.549   9.0   99.4   \n",
       "4874   ...   1250.0  0.001     Philadelphia 76ers  38  44  0.463  11.0   99.4   \n",
       "10751  ...    980.0  0.577          Chicago Bulls  57  25  0.695   0.0  105.2   \n",
       "7455   ...   1190.0  0.359          Orlando Magic  42  40  0.512   7.0   98.5   \n",
       "6884   ...   1250.0  0.986  Oklahoma City Thunder  59  23  0.720   0.0  106.2   \n",
       "1200   ...   1290.0  0.404     Los Angeles Lakers  42  40  0.512  19.0  103.3   \n",
       "6936   ...   1010.0  0.879  Oklahoma City Thunder  47  35  0.573   4.0  106.6   \n",
       "10725  ...    960.0  0.928          Chicago Bulls  61  21  0.744   0.0  110.0   \n",
       "3576   ...   1250.0  0.550    Cleveland Cavaliers  50  32  0.610  14.0   97.6   \n",
       "\n",
       "        PA/G   SRS  \n",
       "10432  109.1  4.96  \n",
       "1186    96.9  2.53  \n",
       "4874   101.3 -2.10  \n",
       "10751   98.9  6.19  \n",
       "7455    98.4 -0.39  \n",
       "6884    99.8  6.66  \n",
       "1200   103.4  0.24  \n",
       "6936   105.8  1.14  \n",
       "10725  101.0  8.57  \n",
       "3576    95.4  2.17  \n",
       "\n",
       "[10 rows x 42 columns]"
      ]
     },
     "execution_count": 5,
     "metadata": {},
     "output_type": "execute_result"
    }
   ],
   "source": [
    "highest_scoring"
   ]
  },
  {
   "cell_type": "code",
   "execution_count": 6,
   "id": "d87e82e3",
   "metadata": {},
   "outputs": [
    {
     "data": {
      "text/plain": [
       "<AxesSubplot:xlabel='Player'>"
      ]
     },
     "execution_count": 6,
     "metadata": {},
     "output_type": "execute_result"
    },
    {
     "data": {
      "image/png": "[encoded data removed]",
      "text/plain": [
       "<Figure size 432x288 with 1 Axes>"
      ]
     },
     "metadata": {
      "needs_background": "light"
     },
     "output_type": "display_data"
    }
   ],
   "source": [
    "highest_scoring.plot.bar(\"Player\", \"PTS\")"
   ]
  },
  {
   "cell_type": "code",
   "execution_count": 20,
   "id": "0335cd62",
   "metadata": {},
   "outputs": [],
   "source": [
    "highest = stats.groupby(\"Year\").apply(lambda x: x.sort_values(\"PTS\", ascending=False).head(1)) # who score the highest each year"
   ]
  },
  {
   "cell_type": "code",
   "execution_count": 21,
   "id": "e4364fec",
   "metadata": {},
   "outputs": [
    {
     "data": {
      "text/plain": [
       "<AxesSubplot:xlabel='Year'>"
      ]
     },
     "execution_count": 21,
     "metadata": {},
     "output_type": "execute_result"
    },
    {
     "data": {
      "image/png": "[encoded data removed]",
      "text/plain": [
       "<Figure size 432x288 with 1 Axes>"
      ]
     },
     "metadata": {
      "needs_background": "light"
     },
     "output_type": "display_data"
    }
   ],
   "source": [
    "highest.plot.bar(\"Year\", \"PTS\")"
   ]
  },
  {
   "cell_type": "code",
   "execution_count": 22,
   "id": "ae53cba5",
   "metadata": {},
   "outputs": [
    {
     "data": {
      "text/plain": [
       "Unnamed: 0    0.009519\n",
       "Age           0.018882\n",
       "G             0.088435\n",
       "GS            0.166252\n",
       "MP            0.159783\n",
       "FG            0.274044\n",
       "FGA           0.245803\n",
       "FG%           0.065300\n",
       "3P            0.088732\n",
       "3PA           0.089353\n",
       "3P%           0.013179\n",
       "2P            0.277054\n",
       "2PA           0.252156\n",
       "2P%           0.059527\n",
       "eFG%          0.056936\n",
       "FT            0.318932\n",
       "FTA           0.324367\n",
       "FT%           0.036780\n",
       "ORB           0.103306\n",
       "DRB           0.219090\n",
       "TRB           0.191647\n",
       "AST           0.198937\n",
       "STL           0.171075\n",
       "BLK           0.154789\n",
       "TOV           0.233452\n",
       "PF            0.074501\n",
       "PTS           0.285735\n",
       "Year         -0.009369\n",
       "Pts Won       0.994841\n",
       "Pts Max       0.522100\n",
       "Share         1.000000\n",
       "W             0.120713\n",
       "L            -0.120178\n",
       "W/L%          0.124477\n",
       "GB           -0.099232\n",
       "PS/G          0.038303\n",
       "PA/G         -0.037968\n",
       "SRS           0.119225\n",
       "Name: Share, dtype: float64"
      ]
     },
     "execution_count": 22,
     "metadata": {},
     "output_type": "execute_result"
    }
   ],
   "source": [
    "stats.corr()[\"Share\"]   # find the correlation\n",
    "                        # \"Share\" is the percentage of votes that the player got in the given year"
   ]
  },
  {
   "cell_type": "code",
   "execution_count": 23,
   "id": "50a2023b",
   "metadata": {},
   "outputs": [
    {
     "data": {
      "text/plain": [
       "<AxesSubplot:>"
      ]
     },
     "execution_count": 23,
     "metadata": {},
     "output_type": "execute_result"
    },
    {
     "data": {
      "image/png": "[encoded data removed]",
      "text/plain": [
       "<Figure size 432x288 with 1 Axes>"
      ]
     },
     "metadata": {
      "needs_background": "light"
     },
     "output_type": "display_data"
    }
   ],
   "source": [
    "stats.corr()[\"Share\"].plot.bar()"
   ]
  },
  {
   "cell_type": "code",
   "execution_count": null,
   "id": "72aeff3e",
   "metadata": {},
   "outputs": [],
   "source": []
  }
 ],
 "metadata": {
  "kernelspec": {
   "display_name": "Python 3 (ipykernel)",
   "language": "python",
   "name": "python3"
  },
  "language_info": {
   "codemirror_mode": {
    "name": "ipython",
    "version": 3
   },
   "file_extension": ".py",
   "mimetype": "text/x-python",
   "name": "python",
   "nbconvert_exporter": "python",
   "pygments_lexer": "ipython3",
   "version": "3.9.7"
  }
 },
 "nbformat": 4,
 "nbformat_minor": 5
}
